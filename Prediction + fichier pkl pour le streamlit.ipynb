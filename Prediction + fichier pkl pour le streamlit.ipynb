{
 "cells": [
  {
   "cell_type": "code",
   "id": "initial_id",
   "metadata": {
    "collapsed": true,
    "ExecuteTime": {
     "end_time": "2025-09-25T09:55:51.542227Z",
     "start_time": "2025-09-25T09:55:14.913899Z"
    }
   },
   "source": [
    "import pandas as pd\n",
    "import numpy as np\n",
    "import joblib\n",
    "import unicodedata\n",
    "from sklearn.model_selection import train_test_split\n",
    "from sklearn.ensemble import RandomForestRegressor\n",
    "from sklearn.preprocessing import LabelEncoder\n",
    "\n",
    "# ================== Chargement des données ==================\n",
    "data = pd.read_csv(\"/Users/hadilneji/Downloads/pollution.csv\", sep=';', parse_dates=['date'])\n",
    "data = data.drop(columns=['CO', 'NOX', 'date'])\n",
    "\n",
    "# ================== Normalisation des noms de zones ==================\n",
    "def normalize_text(text):\n",
    "    # Corrige les encodages bizarres et supprime accents\n",
    "    text = str(text)\n",
    "    text = unicodedata.normalize('NFKD', text).encode('ascii', 'ignore').decode('utf-8')\n",
    "    text = text.strip().upper()\n",
    "    return text\n",
    "\n",
    "data['ville'] = data['ville'].apply(normalize_text)\n",
    "\n",
    "# Vérif des noms uniques après normalisation\n",
    "print(\"\\nNoms de zones normalisés :\")\n",
    "print(data['ville'].unique())\n",
    "\n",
    "# ================== Encodage LabelEncoder ==================\n",
    "le = LabelEncoder()\n",
    "data['ville'] = le.fit_transform(data['ville'])\n",
    "\n",
    "# Sauvegarde du LabelEncoder\n",
    "joblib.dump(le, \"ville_encoder.pkl\")\n",
    "\n",
    "# ================== Création colonnes cibles ==================\n",
    "data['AQI_3h'] = data['AQI'].shift(-3)\n",
    "data['AQI_6h'] = data['AQI'].shift(-6)\n",
    "data = data.dropna()\n",
    "\n",
    "# ================== Features & targets ==================\n",
    "features = [\n",
    "    'PM10','PM25','NO2','NO','ville',\n",
    "    'year','month','day','heure',\n",
    "    'temperature','vent','pluie','humidite','weekend'\n",
    "]\n",
    "X = data[features]\n",
    "y_3h = data['AQI_3h']\n",
    "y_6h = data['AQI_6h']\n",
    "\n",
    "# ================== MODELE 3h ==================\n",
    "X_train3, X_test3, y_train3, y_test3 = train_test_split(X, y_3h, test_size=0.2, random_state=42)\n",
    "model_3h = RandomForestRegressor(n_estimators=200, random_state=42)\n",
    "model_3h.fit(X_train3, y_train3)\n",
    "pred_3h = model_3h.predict(X_test3)\n",
    "\n",
    "# Sauvegarde modèle en .pkl\n",
    "joblib.dump(model_3h, \"aqi_model_3h.pkl\")\n",
    "\n",
    "# ================== MODELE 6h ==================\n",
    "X_train6, X_test6, y_train6, y_test6 = train_test_split(X, y_6h, test_size=0.2, random_state=42)\n",
    "model_6h = RandomForestRegressor(n_estimators=200, random_state=42)\n",
    "model_6h.fit(X_train6, y_train6)\n",
    "pred_6h = model_6h.predict(X_test6)\n",
    "\n",
    "# Sauvegarde modèle en .pkl\n",
    "joblib.dump(model_6h, \"aqi_model_6h.pkl\")\n",
    "\n",
    "# Exemple de prédiction future\n",
    "sample = X_test3.iloc[[0]]\n",
    "print(\"\\nExemple de prédictions :\")\n",
    "print(\"  AQI prévu dans 3h :\", model_3h.predict(sample)[0])\n",
    "print(\"  AQI prévu dans 6h :\", model_6h.predict(sample)[0])\n"
   ],
   "outputs": [
    {
     "name": "stdout",
     "output_type": "stream",
     "text": [
      "\n",
      "Noms de zones normalisés :\n",
      "['AUTOROUTE A1 - SAINT-DENIS' 'AVENUE DES CHAMPS ELYSEES'\n",
      " 'BOULEVARD HAUSSMANN' 'BOULEVARD PERIPHERIQUE EST' 'GENNEVILLIERS'\n",
      " 'PARIS 18EME' 'ROUTE NATIONALE 6 - MELUN']\n",
      "\n",
      "Exemple de prédictions :\n",
      "  AQI prévu dans 3h : 24.542347734709367\n",
      "  AQI prévu dans 6h : 48.90993514434685\n"
     ]
    }
   ],
   "execution_count": 2
  },
  {
   "metadata": {},
   "cell_type": "code",
   "outputs": [],
   "execution_count": null,
   "source": "",
   "id": "f7c03ab7c6825001"
  }
 ],
 "metadata": {
  "kernelspec": {
   "display_name": "Python 3",
   "language": "python",
   "name": "python3"
  },
  "language_info": {
   "codemirror_mode": {
    "name": "ipython",
    "version": 2
   },
   "file_extension": ".py",
   "mimetype": "text/x-python",
   "name": "python",
   "nbconvert_exporter": "python",
   "pygments_lexer": "ipython2",
   "version": "2.7.6"
  }
 },
 "nbformat": 4,
 "nbformat_minor": 5
}
